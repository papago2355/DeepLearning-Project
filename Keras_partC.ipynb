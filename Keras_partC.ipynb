{
 "cells": [
  {
   "cell_type": "markdown",
   "metadata": {},
   "source": [
    "# Part C"
   ]
  },
  {
   "cell_type": "markdown",
   "metadata": {},
   "source": [
    "In the previous part B, we get \n",
    "\n",
    "MSE of 42.8598274048752 and \n",
    "\n",
    "MSE deviation of 22.198094384171497"
   ]
  },
  {
   "cell_type": "markdown",
   "metadata": {},
   "source": [
    "In part C, I am going to set epochs as 100 and see the differences."
   ]
  },
  {
   "cell_type": "markdown",
   "metadata": {},
   "source": [
    "As I mentioned in Part B, all the steps are the same, except in this part we are going to set epochs as 100."
   ]
  },
  {
   "cell_type": "markdown",
   "metadata": {},
   "source": [
    "## Get data and normalize"
   ]
  },
  {
   "cell_type": "markdown",
   "metadata": {},
   "source": [
    "Before we go further we have to check whether we can use  our gpu option in our jupyter notebook. (You can skip this if you just use cpu option in jupyter notebook)"
   ]
  },
  {
   "cell_type": "code",
   "execution_count": 2,
   "metadata": {},
   "outputs": [
    {
     "data": {
      "text/plain": [
       "True"
      ]
     },
     "execution_count": 2,
     "metadata": {},
     "output_type": "execute_result"
    }
   ],
   "source": [
    "import tensorflow as tf\n",
    "import pandas as pd\n",
    "import numpy as np\n",
    "import os\n",
    "os.environ['TF_CPP_MIN_LOG_LEVEL'] = '3'\n",
    "#this part is for gpu run in jupyter check. If you just use cpu based jupyter notebook, you can skip this.\n",
    "tf.test.is_gpu_available(\n",
    "    cuda_only=False, min_cuda_compute_capability=None\n",
    ")"
   ]
  },
  {
   "cell_type": "markdown",
   "metadata": {},
   "source": [
    "Since it returns true, now we are ready to move on to the next step."
   ]
  },
  {
   "cell_type": "markdown",
   "metadata": {},
   "source": [
    "Let's check our data and see whethere we can use this or not."
   ]
  },
  {
   "cell_type": "code",
   "execution_count": 3,
   "metadata": {},
   "outputs": [
    {
     "data": {
      "text/html": [
       "<div>\n",
       "<style scoped>\n",
       "    .dataframe tbody tr th:only-of-type {\n",
       "        vertical-align: middle;\n",
       "    }\n",
       "\n",
       "    .dataframe tbody tr th {\n",
       "        vertical-align: top;\n",
       "    }\n",
       "\n",
       "    .dataframe thead th {\n",
       "        text-align: right;\n",
       "    }\n",
       "</style>\n",
       "<table border=\"1\" class=\"dataframe\">\n",
       "  <thead>\n",
       "    <tr style=\"text-align: right;\">\n",
       "      <th></th>\n",
       "      <th>Cement</th>\n",
       "      <th>Blast Furnace Slag</th>\n",
       "      <th>Fly Ash</th>\n",
       "      <th>Water</th>\n",
       "      <th>Superplasticizer</th>\n",
       "      <th>Coarse Aggregate</th>\n",
       "      <th>Fine Aggregate</th>\n",
       "      <th>Age</th>\n",
       "      <th>Strength</th>\n",
       "    </tr>\n",
       "  </thead>\n",
       "  <tbody>\n",
       "    <tr>\n",
       "      <th>0</th>\n",
       "      <td>540.0</td>\n",
       "      <td>0.0</td>\n",
       "      <td>0.0</td>\n",
       "      <td>162.0</td>\n",
       "      <td>2.5</td>\n",
       "      <td>1040.0</td>\n",
       "      <td>676.0</td>\n",
       "      <td>28</td>\n",
       "      <td>79.99</td>\n",
       "    </tr>\n",
       "    <tr>\n",
       "      <th>1</th>\n",
       "      <td>540.0</td>\n",
       "      <td>0.0</td>\n",
       "      <td>0.0</td>\n",
       "      <td>162.0</td>\n",
       "      <td>2.5</td>\n",
       "      <td>1055.0</td>\n",
       "      <td>676.0</td>\n",
       "      <td>28</td>\n",
       "      <td>61.89</td>\n",
       "    </tr>\n",
       "    <tr>\n",
       "      <th>2</th>\n",
       "      <td>332.5</td>\n",
       "      <td>142.5</td>\n",
       "      <td>0.0</td>\n",
       "      <td>228.0</td>\n",
       "      <td>0.0</td>\n",
       "      <td>932.0</td>\n",
       "      <td>594.0</td>\n",
       "      <td>270</td>\n",
       "      <td>40.27</td>\n",
       "    </tr>\n",
       "    <tr>\n",
       "      <th>3</th>\n",
       "      <td>332.5</td>\n",
       "      <td>142.5</td>\n",
       "      <td>0.0</td>\n",
       "      <td>228.0</td>\n",
       "      <td>0.0</td>\n",
       "      <td>932.0</td>\n",
       "      <td>594.0</td>\n",
       "      <td>365</td>\n",
       "      <td>41.05</td>\n",
       "    </tr>\n",
       "    <tr>\n",
       "      <th>4</th>\n",
       "      <td>198.6</td>\n",
       "      <td>132.4</td>\n",
       "      <td>0.0</td>\n",
       "      <td>192.0</td>\n",
       "      <td>0.0</td>\n",
       "      <td>978.4</td>\n",
       "      <td>825.5</td>\n",
       "      <td>360</td>\n",
       "      <td>44.30</td>\n",
       "    </tr>\n",
       "  </tbody>\n",
       "</table>\n",
       "</div>"
      ],
      "text/plain": [
       "   Cement  Blast Furnace Slag  Fly Ash  Water  Superplasticizer  \\\n",
       "0   540.0                 0.0      0.0  162.0               2.5   \n",
       "1   540.0                 0.0      0.0  162.0               2.5   \n",
       "2   332.5               142.5      0.0  228.0               0.0   \n",
       "3   332.5               142.5      0.0  228.0               0.0   \n",
       "4   198.6               132.4      0.0  192.0               0.0   \n",
       "\n",
       "   Coarse Aggregate  Fine Aggregate  Age  Strength  \n",
       "0            1040.0           676.0   28     79.99  \n",
       "1            1055.0           676.0   28     61.89  \n",
       "2             932.0           594.0  270     40.27  \n",
       "3             932.0           594.0  365     41.05  \n",
       "4             978.4           825.5  360     44.30  "
      ]
     },
     "execution_count": 3,
     "metadata": {},
     "output_type": "execute_result"
    }
   ],
   "source": [
    "concrete_data = pd.read_csv('https://cocl.us/concrete_data')\n",
    "concrete_data.head()"
   ]
  },
  {
   "cell_type": "code",
   "execution_count": 6,
   "metadata": {},
   "outputs": [
    {
     "data": {
      "text/plain": [
       "(1030, 9)"
      ]
     },
     "execution_count": 6,
     "metadata": {},
     "output_type": "execute_result"
    }
   ],
   "source": [
    "concrete_data.shape\n"
   ]
  },
  {
   "cell_type": "code",
   "execution_count": 8,
   "metadata": {},
   "outputs": [
    {
     "data": {
      "text/html": [
       "<div>\n",
       "<style scoped>\n",
       "    .dataframe tbody tr th:only-of-type {\n",
       "        vertical-align: middle;\n",
       "    }\n",
       "\n",
       "    .dataframe tbody tr th {\n",
       "        vertical-align: top;\n",
       "    }\n",
       "\n",
       "    .dataframe thead th {\n",
       "        text-align: right;\n",
       "    }\n",
       "</style>\n",
       "<table border=\"1\" class=\"dataframe\">\n",
       "  <thead>\n",
       "    <tr style=\"text-align: right;\">\n",
       "      <th></th>\n",
       "      <th>Cement</th>\n",
       "      <th>Blast Furnace Slag</th>\n",
       "      <th>Fly Ash</th>\n",
       "      <th>Water</th>\n",
       "      <th>Superplasticizer</th>\n",
       "      <th>Coarse Aggregate</th>\n",
       "      <th>Fine Aggregate</th>\n",
       "      <th>Age</th>\n",
       "      <th>Strength</th>\n",
       "    </tr>\n",
       "  </thead>\n",
       "  <tbody>\n",
       "    <tr>\n",
       "      <th>count</th>\n",
       "      <td>1030.000000</td>\n",
       "      <td>1030.000000</td>\n",
       "      <td>1030.000000</td>\n",
       "      <td>1030.000000</td>\n",
       "      <td>1030.000000</td>\n",
       "      <td>1030.000000</td>\n",
       "      <td>1030.000000</td>\n",
       "      <td>1030.000000</td>\n",
       "      <td>1030.000000</td>\n",
       "    </tr>\n",
       "    <tr>\n",
       "      <th>mean</th>\n",
       "      <td>281.167864</td>\n",
       "      <td>73.895825</td>\n",
       "      <td>54.188350</td>\n",
       "      <td>181.567282</td>\n",
       "      <td>6.204660</td>\n",
       "      <td>972.918932</td>\n",
       "      <td>773.580485</td>\n",
       "      <td>45.662136</td>\n",
       "      <td>35.817961</td>\n",
       "    </tr>\n",
       "    <tr>\n",
       "      <th>std</th>\n",
       "      <td>104.506364</td>\n",
       "      <td>86.279342</td>\n",
       "      <td>63.997004</td>\n",
       "      <td>21.354219</td>\n",
       "      <td>5.973841</td>\n",
       "      <td>77.753954</td>\n",
       "      <td>80.175980</td>\n",
       "      <td>63.169912</td>\n",
       "      <td>16.705742</td>\n",
       "    </tr>\n",
       "    <tr>\n",
       "      <th>min</th>\n",
       "      <td>102.000000</td>\n",
       "      <td>0.000000</td>\n",
       "      <td>0.000000</td>\n",
       "      <td>121.800000</td>\n",
       "      <td>0.000000</td>\n",
       "      <td>801.000000</td>\n",
       "      <td>594.000000</td>\n",
       "      <td>1.000000</td>\n",
       "      <td>2.330000</td>\n",
       "    </tr>\n",
       "    <tr>\n",
       "      <th>25%</th>\n",
       "      <td>192.375000</td>\n",
       "      <td>0.000000</td>\n",
       "      <td>0.000000</td>\n",
       "      <td>164.900000</td>\n",
       "      <td>0.000000</td>\n",
       "      <td>932.000000</td>\n",
       "      <td>730.950000</td>\n",
       "      <td>7.000000</td>\n",
       "      <td>23.710000</td>\n",
       "    </tr>\n",
       "    <tr>\n",
       "      <th>50%</th>\n",
       "      <td>272.900000</td>\n",
       "      <td>22.000000</td>\n",
       "      <td>0.000000</td>\n",
       "      <td>185.000000</td>\n",
       "      <td>6.400000</td>\n",
       "      <td>968.000000</td>\n",
       "      <td>779.500000</td>\n",
       "      <td>28.000000</td>\n",
       "      <td>34.445000</td>\n",
       "    </tr>\n",
       "    <tr>\n",
       "      <th>75%</th>\n",
       "      <td>350.000000</td>\n",
       "      <td>142.950000</td>\n",
       "      <td>118.300000</td>\n",
       "      <td>192.000000</td>\n",
       "      <td>10.200000</td>\n",
       "      <td>1029.400000</td>\n",
       "      <td>824.000000</td>\n",
       "      <td>56.000000</td>\n",
       "      <td>46.135000</td>\n",
       "    </tr>\n",
       "    <tr>\n",
       "      <th>max</th>\n",
       "      <td>540.000000</td>\n",
       "      <td>359.400000</td>\n",
       "      <td>200.100000</td>\n",
       "      <td>247.000000</td>\n",
       "      <td>32.200000</td>\n",
       "      <td>1145.000000</td>\n",
       "      <td>992.600000</td>\n",
       "      <td>365.000000</td>\n",
       "      <td>82.600000</td>\n",
       "    </tr>\n",
       "  </tbody>\n",
       "</table>\n",
       "</div>"
      ],
      "text/plain": [
       "            Cement  Blast Furnace Slag      Fly Ash        Water  \\\n",
       "count  1030.000000         1030.000000  1030.000000  1030.000000   \n",
       "mean    281.167864           73.895825    54.188350   181.567282   \n",
       "std     104.506364           86.279342    63.997004    21.354219   \n",
       "min     102.000000            0.000000     0.000000   121.800000   \n",
       "25%     192.375000            0.000000     0.000000   164.900000   \n",
       "50%     272.900000           22.000000     0.000000   185.000000   \n",
       "75%     350.000000          142.950000   118.300000   192.000000   \n",
       "max     540.000000          359.400000   200.100000   247.000000   \n",
       "\n",
       "       Superplasticizer  Coarse Aggregate  Fine Aggregate          Age  \\\n",
       "count       1030.000000       1030.000000     1030.000000  1030.000000   \n",
       "mean           6.204660        972.918932      773.580485    45.662136   \n",
       "std            5.973841         77.753954       80.175980    63.169912   \n",
       "min            0.000000        801.000000      594.000000     1.000000   \n",
       "25%            0.000000        932.000000      730.950000     7.000000   \n",
       "50%            6.400000        968.000000      779.500000    28.000000   \n",
       "75%           10.200000       1029.400000      824.000000    56.000000   \n",
       "max           32.200000       1145.000000      992.600000   365.000000   \n",
       "\n",
       "          Strength  \n",
       "count  1030.000000  \n",
       "mean     35.817961  \n",
       "std      16.705742  \n",
       "min       2.330000  \n",
       "25%      23.710000  \n",
       "50%      34.445000  \n",
       "75%      46.135000  \n",
       "max      82.600000  "
      ]
     },
     "execution_count": 8,
     "metadata": {},
     "output_type": "execute_result"
    }
   ],
   "source": [
    "concrete_data.describe()\n"
   ]
  },
  {
   "cell_type": "code",
   "execution_count": 9,
   "metadata": {},
   "outputs": [
    {
     "data": {
      "text/plain": [
       "Cement                0\n",
       "Blast Furnace Slag    0\n",
       "Fly Ash               0\n",
       "Water                 0\n",
       "Superplasticizer      0\n",
       "Coarse Aggregate      0\n",
       "Fine Aggregate        0\n",
       "Age                   0\n",
       "Strength              0\n",
       "dtype: int64"
      ]
     },
     "execution_count": 9,
     "metadata": {},
     "output_type": "execute_result"
    }
   ],
   "source": [
    "concrete_data.isnull().sum()"
   ]
  },
  {
   "cell_type": "markdown",
   "metadata": {},
   "source": [
    "Since there are no null values, we can assume this data is safe to use."
   ]
  },
  {
   "cell_type": "markdown",
   "metadata": {},
   "source": [
    "Now, we must set predictors and target for our model."
   ]
  },
  {
   "cell_type": "code",
   "execution_count": 10,
   "metadata": {},
   "outputs": [],
   "source": [
    "concrete_data_columns = concrete_data.columns\n",
    "predictors = concrete_data[concrete_data_columns[concrete_data_columns != 'Strength']] # all columns except Strength\n",
    "target = concrete_data['Strength'] # Strength column"
   ]
  },
  {
   "cell_type": "code",
   "execution_count": 11,
   "metadata": {},
   "outputs": [
    {
     "data": {
      "text/html": [
       "<div>\n",
       "<style scoped>\n",
       "    .dataframe tbody tr th:only-of-type {\n",
       "        vertical-align: middle;\n",
       "    }\n",
       "\n",
       "    .dataframe tbody tr th {\n",
       "        vertical-align: top;\n",
       "    }\n",
       "\n",
       "    .dataframe thead th {\n",
       "        text-align: right;\n",
       "    }\n",
       "</style>\n",
       "<table border=\"1\" class=\"dataframe\">\n",
       "  <thead>\n",
       "    <tr style=\"text-align: right;\">\n",
       "      <th></th>\n",
       "      <th>Cement</th>\n",
       "      <th>Blast Furnace Slag</th>\n",
       "      <th>Fly Ash</th>\n",
       "      <th>Water</th>\n",
       "      <th>Superplasticizer</th>\n",
       "      <th>Coarse Aggregate</th>\n",
       "      <th>Fine Aggregate</th>\n",
       "      <th>Age</th>\n",
       "    </tr>\n",
       "  </thead>\n",
       "  <tbody>\n",
       "    <tr>\n",
       "      <th>0</th>\n",
       "      <td>540.0</td>\n",
       "      <td>0.0</td>\n",
       "      <td>0.0</td>\n",
       "      <td>162.0</td>\n",
       "      <td>2.5</td>\n",
       "      <td>1040.0</td>\n",
       "      <td>676.0</td>\n",
       "      <td>28</td>\n",
       "    </tr>\n",
       "    <tr>\n",
       "      <th>1</th>\n",
       "      <td>540.0</td>\n",
       "      <td>0.0</td>\n",
       "      <td>0.0</td>\n",
       "      <td>162.0</td>\n",
       "      <td>2.5</td>\n",
       "      <td>1055.0</td>\n",
       "      <td>676.0</td>\n",
       "      <td>28</td>\n",
       "    </tr>\n",
       "    <tr>\n",
       "      <th>2</th>\n",
       "      <td>332.5</td>\n",
       "      <td>142.5</td>\n",
       "      <td>0.0</td>\n",
       "      <td>228.0</td>\n",
       "      <td>0.0</td>\n",
       "      <td>932.0</td>\n",
       "      <td>594.0</td>\n",
       "      <td>270</td>\n",
       "    </tr>\n",
       "    <tr>\n",
       "      <th>3</th>\n",
       "      <td>332.5</td>\n",
       "      <td>142.5</td>\n",
       "      <td>0.0</td>\n",
       "      <td>228.0</td>\n",
       "      <td>0.0</td>\n",
       "      <td>932.0</td>\n",
       "      <td>594.0</td>\n",
       "      <td>365</td>\n",
       "    </tr>\n",
       "    <tr>\n",
       "      <th>4</th>\n",
       "      <td>198.6</td>\n",
       "      <td>132.4</td>\n",
       "      <td>0.0</td>\n",
       "      <td>192.0</td>\n",
       "      <td>0.0</td>\n",
       "      <td>978.4</td>\n",
       "      <td>825.5</td>\n",
       "      <td>360</td>\n",
       "    </tr>\n",
       "  </tbody>\n",
       "</table>\n",
       "</div>"
      ],
      "text/plain": [
       "   Cement  Blast Furnace Slag  Fly Ash  Water  Superplasticizer  \\\n",
       "0   540.0                 0.0      0.0  162.0               2.5   \n",
       "1   540.0                 0.0      0.0  162.0               2.5   \n",
       "2   332.5               142.5      0.0  228.0               0.0   \n",
       "3   332.5               142.5      0.0  228.0               0.0   \n",
       "4   198.6               132.4      0.0  192.0               0.0   \n",
       "\n",
       "   Coarse Aggregate  Fine Aggregate  Age  \n",
       "0            1040.0           676.0   28  \n",
       "1            1055.0           676.0   28  \n",
       "2             932.0           594.0  270  \n",
       "3             932.0           594.0  365  \n",
       "4             978.4           825.5  360  "
      ]
     },
     "execution_count": 11,
     "metadata": {},
     "output_type": "execute_result"
    }
   ],
   "source": [
    "predictors.head()"
   ]
  },
  {
   "cell_type": "markdown",
   "metadata": {},
   "source": [
    "## Normalize data"
   ]
  },
  {
   "cell_type": "markdown",
   "metadata": {},
   "source": [
    "Just like the Part B, we have to normalize our data by subtracting mean value and dividing by standard deviation."
   ]
  },
  {
   "cell_type": "code",
   "execution_count": 12,
   "metadata": {},
   "outputs": [
    {
     "data": {
      "text/html": [
       "<div>\n",
       "<style scoped>\n",
       "    .dataframe tbody tr th:only-of-type {\n",
       "        vertical-align: middle;\n",
       "    }\n",
       "\n",
       "    .dataframe tbody tr th {\n",
       "        vertical-align: top;\n",
       "    }\n",
       "\n",
       "    .dataframe thead th {\n",
       "        text-align: right;\n",
       "    }\n",
       "</style>\n",
       "<table border=\"1\" class=\"dataframe\">\n",
       "  <thead>\n",
       "    <tr style=\"text-align: right;\">\n",
       "      <th></th>\n",
       "      <th>Cement</th>\n",
       "      <th>Blast Furnace Slag</th>\n",
       "      <th>Fly Ash</th>\n",
       "      <th>Water</th>\n",
       "      <th>Superplasticizer</th>\n",
       "      <th>Coarse Aggregate</th>\n",
       "      <th>Fine Aggregate</th>\n",
       "      <th>Age</th>\n",
       "    </tr>\n",
       "  </thead>\n",
       "  <tbody>\n",
       "    <tr>\n",
       "      <th>0</th>\n",
       "      <td>2.476712</td>\n",
       "      <td>-0.856472</td>\n",
       "      <td>-0.846733</td>\n",
       "      <td>-0.916319</td>\n",
       "      <td>-0.620147</td>\n",
       "      <td>0.862735</td>\n",
       "      <td>-1.217079</td>\n",
       "      <td>-0.279597</td>\n",
       "    </tr>\n",
       "    <tr>\n",
       "      <th>1</th>\n",
       "      <td>2.476712</td>\n",
       "      <td>-0.856472</td>\n",
       "      <td>-0.846733</td>\n",
       "      <td>-0.916319</td>\n",
       "      <td>-0.620147</td>\n",
       "      <td>1.055651</td>\n",
       "      <td>-1.217079</td>\n",
       "      <td>-0.279597</td>\n",
       "    </tr>\n",
       "    <tr>\n",
       "      <th>2</th>\n",
       "      <td>0.491187</td>\n",
       "      <td>0.795140</td>\n",
       "      <td>-0.846733</td>\n",
       "      <td>2.174405</td>\n",
       "      <td>-1.038638</td>\n",
       "      <td>-0.526262</td>\n",
       "      <td>-2.239829</td>\n",
       "      <td>3.551340</td>\n",
       "    </tr>\n",
       "    <tr>\n",
       "      <th>3</th>\n",
       "      <td>0.491187</td>\n",
       "      <td>0.795140</td>\n",
       "      <td>-0.846733</td>\n",
       "      <td>2.174405</td>\n",
       "      <td>-1.038638</td>\n",
       "      <td>-0.526262</td>\n",
       "      <td>-2.239829</td>\n",
       "      <td>5.055221</td>\n",
       "    </tr>\n",
       "    <tr>\n",
       "      <th>4</th>\n",
       "      <td>-0.790075</td>\n",
       "      <td>0.678079</td>\n",
       "      <td>-0.846733</td>\n",
       "      <td>0.488555</td>\n",
       "      <td>-1.038638</td>\n",
       "      <td>0.070492</td>\n",
       "      <td>0.647569</td>\n",
       "      <td>4.976069</td>\n",
       "    </tr>\n",
       "  </tbody>\n",
       "</table>\n",
       "</div>"
      ],
      "text/plain": [
       "     Cement  Blast Furnace Slag   Fly Ash     Water  Superplasticizer  \\\n",
       "0  2.476712           -0.856472 -0.846733 -0.916319         -0.620147   \n",
       "1  2.476712           -0.856472 -0.846733 -0.916319         -0.620147   \n",
       "2  0.491187            0.795140 -0.846733  2.174405         -1.038638   \n",
       "3  0.491187            0.795140 -0.846733  2.174405         -1.038638   \n",
       "4 -0.790075            0.678079 -0.846733  0.488555         -1.038638   \n",
       "\n",
       "   Coarse Aggregate  Fine Aggregate       Age  \n",
       "0          0.862735       -1.217079 -0.279597  \n",
       "1          1.055651       -1.217079 -0.279597  \n",
       "2         -0.526262       -2.239829  3.551340  \n",
       "3         -0.526262       -2.239829  5.055221  \n",
       "4          0.070492        0.647569  4.976069  "
      ]
     },
     "execution_count": 12,
     "metadata": {},
     "output_type": "execute_result"
    }
   ],
   "source": [
    "predictors= (predictors - predictors.mean()) / predictors.std()\n",
    "predictors.head()"
   ]
  },
  {
   "cell_type": "markdown",
   "metadata": {},
   "source": [
    "And lastly, we should check target status before we move on."
   ]
  },
  {
   "cell_type": "code",
   "execution_count": 13,
   "metadata": {},
   "outputs": [
    {
     "data": {
      "text/plain": [
       "0    79.99\n",
       "1    61.89\n",
       "2    40.27\n",
       "3    41.05\n",
       "4    44.30\n",
       "Name: Strength, dtype: float64"
      ]
     },
     "execution_count": 13,
     "metadata": {},
     "output_type": "execute_result"
    }
   ],
   "source": [
    "target.head()"
   ]
  },
  {
   "cell_type": "code",
   "execution_count": 14,
   "metadata": {},
   "outputs": [
    {
     "data": {
      "text/plain": [
       "8"
      ]
     },
     "execution_count": 14,
     "metadata": {},
     "output_type": "execute_result"
    }
   ],
   "source": [
    "n_cols = predictors.shape[1] # number of predictors\n",
    "n_cols"
   ]
  },
  {
   "cell_type": "markdown",
   "metadata": {},
   "source": [
    "Target status also looks fine in here."
   ]
  },
  {
   "cell_type": "markdown",
   "metadata": {},
   "source": [
    "## Import Keras and make regression model"
   ]
  },
  {
   "cell_type": "markdown",
   "metadata": {},
   "source": [
    "Now, we have to build our regression model.\n",
    "\n",
    "But before we go further, we put 'sess' line so we can run multiple gpu allowed jupyter nobtebooks.(You can skip this if you just use gpu option)"
   ]
  },
  {
   "cell_type": "code",
   "execution_count": 15,
   "metadata": {},
   "outputs": [
    {
     "name": "stderr",
     "output_type": "stream",
     "text": [
      "Using TensorFlow backend.\n"
     ]
    }
   ],
   "source": [
    "import tensorflow as tf\n",
    "import keras\n",
    "from keras.models import Sequential\n",
    "from keras.layers import Dense\n",
    "sess = tf.compat.v1.Session(config=tf.compat.v1.ConfigProto(log_device_placement=True))\n"
   ]
  },
  {
   "cell_type": "markdown",
   "metadata": {},
   "source": [
    "It looks fine so we are now going to build our regression model."
   ]
  },
  {
   "cell_type": "code",
   "execution_count": 16,
   "metadata": {},
   "outputs": [],
   "source": [
    "# define regression model\n",
    "def regression_model():\n",
    "    # create model\n",
    "    model = Sequential()\n",
    "    #layer 10 , relu activation\n",
    "    model.add(Dense(10, activation='relu', input_shape=(n_cols,)))\n",
    "    model.add(Dense(1))\n",
    "    # compile model\n",
    "    model.compile(optimizer='adam', loss='mean_squared_error')\n",
    "    return model"
   ]
  },
  {
   "cell_type": "markdown",
   "metadata": {},
   "source": [
    "And now, we have to normalize our datas so that we can get better outcome."
   ]
  },
  {
   "cell_type": "code",
   "execution_count": 17,
   "metadata": {},
   "outputs": [],
   "source": [
    "import numpy as np\n",
    "from sklearn.model_selection import train_test_split\n",
    "X_train, X_test, y_train, y_test = train_test_split(predictors, target, test_size=0.3, random_state=42)"
   ]
  },
  {
   "cell_type": "code",
   "execution_count": 18,
   "metadata": {},
   "outputs": [],
   "source": [
    "model = regression_model()"
   ]
  },
  {
   "cell_type": "markdown",
   "metadata": {},
   "source": [
    "Next, we are going to train our model. However, compared to Part B, the model's epochs will be 100 instead of 50."
   ]
  },
  {
   "cell_type": "code",
   "execution_count": 19,
   "metadata": {},
   "outputs": [
    {
     "name": "stdout",
     "output_type": "stream",
     "text": [
      "Epoch 1/100\n",
      "721/721 [==============================] - 0s 492us/step - loss: 1607.0392\n",
      "Epoch 2/100\n",
      "721/721 [==============================] - 0s 41us/step - loss: 1591.4043\n",
      "Epoch 3/100\n",
      "721/721 [==============================] - 0s 39us/step - loss: 1575.9251\n",
      "Epoch 4/100\n",
      "721/721 [==============================] - 0s 44us/step - loss: 1560.2519\n",
      "Epoch 5/100\n",
      "721/721 [==============================] - 0s 39us/step - loss: 1544.3911\n",
      "Epoch 6/100\n",
      "721/721 [==============================] - 0s 40us/step - loss: 1528.0551\n",
      "Epoch 7/100\n",
      "721/721 [==============================] - 0s 40us/step - loss: 1510.9588\n",
      "Epoch 8/100\n",
      "721/721 [==============================] - 0s 39us/step - loss: 1493.1342\n",
      "Epoch 9/100\n",
      "721/721 [==============================] - 0s 46us/step - loss: 1474.3419\n",
      "Epoch 10/100\n",
      "721/721 [==============================] - 0s 37us/step - loss: 1454.4240\n",
      "Epoch 11/100\n",
      "721/721 [==============================] - 0s 39us/step - loss: 1433.0535\n",
      "Epoch 12/100\n",
      "721/721 [==============================] - 0s 41us/step - loss: 1411.0001\n",
      "Epoch 13/100\n",
      "721/721 [==============================] - 0s 39us/step - loss: 1387.3278\n",
      "Epoch 14/100\n",
      "721/721 [==============================] - 0s 39us/step - loss: 1362.5783\n",
      "Epoch 15/100\n",
      "721/721 [==============================] - 0s 41us/step - loss: 1336.8142\n",
      "Epoch 16/100\n",
      "721/721 [==============================] - 0s 46us/step - loss: 1309.8095\n",
      "Epoch 17/100\n",
      "721/721 [==============================] - 0s 51us/step - loss: 1282.3922\n",
      "Epoch 18/100\n",
      "721/721 [==============================] - 0s 44us/step - loss: 1253.7240\n",
      "Epoch 19/100\n",
      "721/721 [==============================] - 0s 39us/step - loss: 1224.1833\n",
      "Epoch 20/100\n",
      "721/721 [==============================] - 0s 41us/step - loss: 1193.8283\n",
      "Epoch 21/100\n",
      "721/721 [==============================] - 0s 41us/step - loss: 1163.1762\n",
      "Epoch 22/100\n",
      "721/721 [==============================] - 0s 41us/step - loss: 1132.0651\n",
      "Epoch 23/100\n",
      "721/721 [==============================] - 0s 40us/step - loss: 1100.2009\n",
      "Epoch 24/100\n",
      "721/721 [==============================] - 0s 41us/step - loss: 1067.7966\n",
      "Epoch 25/100\n",
      "721/721 [==============================] - 0s 39us/step - loss: 1035.8421\n",
      "Epoch 26/100\n",
      "721/721 [==============================] - 0s 39us/step - loss: 1003.0637\n",
      "Epoch 27/100\n",
      "721/721 [==============================] - 0s 39us/step - loss: 970.6057\n",
      "Epoch 28/100\n",
      "721/721 [==============================] - 0s 39us/step - loss: 938.5096\n",
      "Epoch 29/100\n",
      "721/721 [==============================] - 0s 37us/step - loss: 906.5763\n",
      "Epoch 30/100\n",
      "721/721 [==============================] - 0s 40us/step - loss: 874.4831\n",
      "Epoch 31/100\n",
      "721/721 [==============================] - 0s 39us/step - loss: 843.5785\n",
      "Epoch 32/100\n",
      "721/721 [==============================] - 0s 41us/step - loss: 812.2376\n",
      "Epoch 33/100\n",
      "721/721 [==============================] - 0s 39us/step - loss: 782.0184\n",
      "Epoch 34/100\n",
      "721/721 [==============================] - 0s 39us/step - loss: 751.8830\n",
      "Epoch 35/100\n",
      "721/721 [==============================] - 0s 39us/step - loss: 722.9929\n",
      "Epoch 36/100\n",
      "721/721 [==============================] - 0s 40us/step - loss: 694.3941\n",
      "Epoch 37/100\n",
      "721/721 [==============================] - 0s 39us/step - loss: 666.4772\n",
      "Epoch 38/100\n",
      "721/721 [==============================] - 0s 41us/step - loss: 639.2672\n",
      "Epoch 39/100\n",
      "721/721 [==============================] - 0s 41us/step - loss: 613.1284\n",
      "Epoch 40/100\n",
      "721/721 [==============================] - 0s 39us/step - loss: 587.5683\n",
      "Epoch 41/100\n",
      "721/721 [==============================] - 0s 39us/step - loss: 562.9584\n",
      "Epoch 42/100\n",
      "721/721 [==============================] - 0s 40us/step - loss: 539.1504\n",
      "Epoch 43/100\n",
      "721/721 [==============================] - 0s 43us/step - loss: 516.1269\n",
      "Epoch 44/100\n",
      "721/721 [==============================] - 0s 40us/step - loss: 494.5245\n",
      "Epoch 45/100\n",
      "721/721 [==============================] - 0s 40us/step - loss: 473.7708\n",
      "Epoch 46/100\n",
      "721/721 [==============================] - 0s 39us/step - loss: 453.7792\n",
      "Epoch 47/100\n",
      "721/721 [==============================] - 0s 40us/step - loss: 434.6553\n",
      "Epoch 48/100\n",
      "721/721 [==============================] - 0s 40us/step - loss: 416.9084\n",
      "Epoch 49/100\n",
      "721/721 [==============================] - 0s 41us/step - loss: 399.5932\n",
      "Epoch 50/100\n",
      "721/721 [==============================] - 0s 41us/step - loss: 383.8509\n",
      "Epoch 51/100\n",
      "721/721 [==============================] - 0s 40us/step - loss: 368.7593\n",
      "Epoch 52/100\n",
      "721/721 [==============================] - 0s 40us/step - loss: 354.7184\n",
      "Epoch 53/100\n",
      "721/721 [==============================] - 0s 39us/step - loss: 341.4228\n",
      "Epoch 54/100\n",
      "721/721 [==============================] - 0s 37us/step - loss: 328.9637\n",
      "Epoch 55/100\n",
      "721/721 [==============================] - 0s 39us/step - loss: 317.5404\n",
      "Epoch 56/100\n",
      "721/721 [==============================] - 0s 40us/step - loss: 306.5585\n",
      "Epoch 57/100\n",
      "721/721 [==============================] - 0s 39us/step - loss: 296.3331\n",
      "Epoch 58/100\n",
      "721/721 [==============================] - 0s 37us/step - loss: 286.8830\n",
      "Epoch 59/100\n",
      "721/721 [==============================] - 0s 39us/step - loss: 278.1691\n",
      "Epoch 60/100\n",
      "721/721 [==============================] - 0s 39us/step - loss: 269.8858\n",
      "Epoch 61/100\n",
      "721/721 [==============================] - 0s 39us/step - loss: 262.5109\n",
      "Epoch 62/100\n",
      "721/721 [==============================] - 0s 39us/step - loss: 255.4479\n",
      "Epoch 63/100\n",
      "721/721 [==============================] - 0s 39us/step - loss: 249.1184\n",
      "Epoch 64/100\n",
      "721/721 [==============================] - 0s 40us/step - loss: 243.1127\n",
      "Epoch 65/100\n",
      "721/721 [==============================] - 0s 41us/step - loss: 237.6918\n",
      "Epoch 66/100\n",
      "721/721 [==============================] - 0s 40us/step - loss: 232.4624\n",
      "Epoch 67/100\n",
      "721/721 [==============================] - 0s 44us/step - loss: 227.8926\n",
      "Epoch 68/100\n",
      "721/721 [==============================] - 0s 44us/step - loss: 223.5248\n",
      "Epoch 69/100\n",
      "721/721 [==============================] - 0s 43us/step - loss: 219.5346\n",
      "Epoch 70/100\n",
      "721/721 [==============================] - 0s 43us/step - loss: 215.8931\n",
      "Epoch 71/100\n",
      "721/721 [==============================] - 0s 43us/step - loss: 212.5704\n",
      "Epoch 72/100\n",
      "721/721 [==============================] - 0s 43us/step - loss: 209.3845\n",
      "Epoch 73/100\n",
      "721/721 [==============================] - 0s 44us/step - loss: 206.4638\n",
      "Epoch 74/100\n",
      "721/721 [==============================] - 0s 40us/step - loss: 203.7979\n",
      "Epoch 75/100\n",
      "721/721 [==============================] - 0s 39us/step - loss: 201.2276\n",
      "Epoch 76/100\n",
      "721/721 [==============================] - 0s 39us/step - loss: 198.9405\n",
      "Epoch 77/100\n",
      "721/721 [==============================] - 0s 41us/step - loss: 196.6739\n",
      "Epoch 78/100\n",
      "721/721 [==============================] - 0s 39us/step - loss: 194.4712\n",
      "Epoch 79/100\n",
      "721/721 [==============================] - 0s 40us/step - loss: 192.5355\n",
      "Epoch 80/100\n",
      "721/721 [==============================] - 0s 39us/step - loss: 190.6016\n",
      "Epoch 81/100\n",
      "721/721 [==============================] - 0s 39us/step - loss: 189.0275\n",
      "Epoch 82/100\n",
      "721/721 [==============================] - 0s 39us/step - loss: 187.2225\n",
      "Epoch 83/100\n",
      "721/721 [==============================] - 0s 39us/step - loss: 185.6547\n",
      "Epoch 84/100\n",
      "721/721 [==============================] - 0s 40us/step - loss: 184.1519\n",
      "Epoch 85/100\n",
      "721/721 [==============================] - 0s 40us/step - loss: 182.7059\n",
      "Epoch 86/100\n",
      "721/721 [==============================] - 0s 40us/step - loss: 181.3439\n",
      "Epoch 87/100\n",
      "721/721 [==============================] - 0s 40us/step - loss: 179.8922\n",
      "Epoch 88/100\n",
      "721/721 [==============================] - 0s 41us/step - loss: 178.6994\n",
      "Epoch 89/100\n",
      "721/721 [==============================] - 0s 40us/step - loss: 177.2765\n",
      "Epoch 90/100\n",
      "721/721 [==============================] - 0s 41us/step - loss: 176.1158\n",
      "Epoch 91/100\n",
      "721/721 [==============================] - 0s 40us/step - loss: 174.8336\n",
      "Epoch 92/100\n",
      "721/721 [==============================] - 0s 43us/step - loss: 173.6559\n",
      "Epoch 93/100\n",
      "721/721 [==============================] - 0s 41us/step - loss: 172.5166\n",
      "Epoch 94/100\n",
      "721/721 [==============================] - 0s 40us/step - loss: 171.2913\n",
      "Epoch 95/100\n",
      "721/721 [==============================] - 0s 43us/step - loss: 170.1578\n",
      "Epoch 96/100\n"
     ]
    },
    {
     "name": "stdout",
     "output_type": "stream",
     "text": [
      "721/721 [==============================] - 0s 42us/step - loss: 169.0622\n",
      "Epoch 97/100\n",
      "721/721 [==============================] - 0s 43us/step - loss: 167.9404\n",
      "Epoch 98/100\n",
      "721/721 [==============================] - 0s 41us/step - loss: 166.9000\n",
      "Epoch 99/100\n",
      "721/721 [==============================] - 0s 41us/step - loss: 165.7871\n",
      "Epoch 100/100\n",
      "721/721 [==============================] - 0s 41us/step - loss: 164.6905\n",
      "309/309 [==============================] - 0s 81us/step\n"
     ]
    },
    {
     "data": {
      "text/plain": [
       "171.53589998016852"
      ]
     },
     "execution_count": 19,
     "metadata": {},
     "output_type": "execute_result"
    }
   ],
   "source": [
    "#fit the model\n",
    "epochs = 100 #=> instead of 50, it is 100\n",
    "model.fit(X_train, y_train, epochs=epochs, verbose=1)\n",
    "loss_val = model.evaluate(X_test, y_test)\n",
    "y_pred = model.predict(X_test)\n",
    "loss_val"
   ]
  },
  {
   "cell_type": "markdown",
   "metadata": {},
   "source": [
    "## MSE compared when we increase epochs"
   ]
  },
  {
   "cell_type": "markdown",
   "metadata": {},
   "source": [
    "Now we have to get MSE list. But we must print our value before we go."
   ]
  },
  {
   "cell_type": "code",
   "execution_count": 20,
   "metadata": {},
   "outputs": [
    {
     "name": "stdout",
     "output_type": "stream",
     "text": [
      "171.53590445004806 0.0\n"
     ]
    }
   ],
   "source": [
    "from sklearn.metrics import mean_squared_error\n",
    "mean_square_error = mean_squared_error(y_test, y_pred)\n",
    "mean = np.mean(mean_square_error)\n",
    "standard_deviation = np.std(mean_square_error)\n",
    "print(mean, standard_deviation)"
   ]
  },
  {
   "cell_type": "markdown",
   "metadata": {},
   "source": [
    "Total epochs are 100, so we have set total_mean_squared_errors as 100.\n",
    "\n",
    "After that, I followed the same steps as Part B to see the differences."
   ]
  },
  {
   "cell_type": "code",
   "execution_count": 21,
   "metadata": {},
   "outputs": [
    {
     "name": "stdout",
     "output_type": "stream",
     "text": [
      "MSE 1: 76.83672992002617\n",
      "MSE 2: 63.511870202123156\n",
      "MSE 3: 40.97540006051172\n",
      "MSE 4: 43.32605026146355\n",
      "MSE 5: 41.015358082299095\n",
      "MSE 6: 43.94260343533118\n",
      "MSE 7: 43.4934336591307\n",
      "MSE 8: 34.4410211692736\n",
      "MSE 9: 34.8099900649975\n",
      "MSE 10: 36.23874733440313\n",
      "MSE 11: 37.09520031333356\n",
      "MSE 12: 30.501118261837266\n",
      "MSE 13: 38.35746959266539\n",
      "MSE 14: 39.65510135638289\n",
      "MSE 15: 33.37883027703245\n",
      "MSE 16: 27.474140889436296\n",
      "MSE 17: 32.7634971643343\n",
      "MSE 18: 32.04127380840215\n",
      "MSE 19: 31.657792606785844\n",
      "MSE 20: 33.05145158736837\n",
      "MSE 21: 29.679085197572185\n",
      "MSE 22: 29.834423065185547\n",
      "MSE 23: 27.910352713081828\n",
      "MSE 24: 31.627121983994172\n",
      "MSE 25: 32.828759313787074\n",
      "MSE 26: 35.92489532668228\n",
      "MSE 27: 27.843776678190263\n",
      "MSE 28: 30.00452905796878\n",
      "MSE 29: 34.6071136005488\n",
      "MSE 30: 30.42341327358604\n",
      "MSE 31: 29.62624187531209\n",
      "MSE 32: 28.447874035264295\n",
      "MSE 33: 30.07278527565373\n",
      "MSE 34: 29.486615770457245\n",
      "MSE 35: 33.635657918491795\n",
      "MSE 36: 35.83830259378674\n",
      "MSE 37: 26.99429078703945\n",
      "MSE 38: 30.573395750669214\n",
      "MSE 39: 30.865661979107408\n",
      "MSE 40: 24.805786515516758\n",
      "MSE 41: 32.39452931178812\n",
      "MSE 42: 26.75123940625237\n",
      "MSE 43: 31.21455201207627\n",
      "MSE 44: 34.959017262875456\n",
      "MSE 45: 34.94871183969442\n",
      "MSE 46: 33.35638740070429\n",
      "MSE 47: 30.737699329660163\n",
      "MSE 48: 31.94914241901879\n",
      "MSE 49: 33.04104901286005\n",
      "MSE 50: 32.66492595487428\n",
      "MSE 51: 29.054626057448896\n",
      "MSE 52: 29.812245473892556\n",
      "MSE 53: 28.81016535589224\n",
      "MSE 54: 28.953285056796275\n",
      "MSE 55: 35.22480016541712\n",
      "MSE 56: 29.095450268594192\n",
      "MSE 57: 29.425089709581293\n",
      "MSE 58: 29.519046166182335\n",
      "MSE 59: 34.33464982980278\n",
      "MSE 60: 33.3801032748423\n",
      "MSE 61: 31.518810284562097\n",
      "MSE 62: 24.822164510831865\n",
      "MSE 63: 30.276874208913267\n",
      "MSE 64: 31.432013638197027\n",
      "MSE 65: 28.6913983613542\n",
      "MSE 66: 30.228164018550736\n",
      "MSE 67: 28.640019722355223\n",
      "MSE 68: 32.7009338823337\n",
      "MSE 69: 27.562253556976813\n",
      "MSE 70: 29.02507150520399\n",
      "MSE 71: 28.618812301783887\n",
      "MSE 72: 27.736175296376054\n",
      "MSE 73: 27.76185962220226\n",
      "MSE 74: 27.66202655656438\n",
      "MSE 75: 30.20949892704541\n",
      "MSE 76: 30.055251513484226\n",
      "MSE 77: 27.92300128628135\n",
      "MSE 78: 27.104845966721815\n",
      "MSE 79: 35.651746459763416\n",
      "MSE 80: 31.710407294115974\n",
      "MSE 81: 27.201496858812845\n",
      "MSE 82: 29.818784479184444\n",
      "MSE 83: 29.04592820201491\n",
      "MSE 84: 28.400676196447083\n",
      "MSE 85: 27.782282141034273\n",
      "MSE 86: 27.222429380447732\n",
      "MSE 87: 30.487972543463354\n",
      "MSE 88: 27.617813814033582\n",
      "MSE 89: 27.40409138133225\n",
      "MSE 90: 26.70145644339157\n",
      "MSE 91: 31.441020576699266\n",
      "MSE 92: 26.350434423650352\n",
      "MSE 93: 30.686776651919466\n",
      "MSE 94: 29.58156823957622\n",
      "MSE 95: 28.606269293232643\n",
      "MSE 96: 26.277711263366502\n",
      "MSE 97: 29.88650744169661\n",
      "MSE 98: 26.321076328314625\n",
      "MSE 99: 28.509398086942902\n",
      "MSE 100: 26.517358113261103\n",
      "\n",
      "\n",
      "Mean: 31.90416229577972\n",
      "Standard Deviation: 6.80672428122139\n"
     ]
    }
   ],
   "source": [
    "total_mean_squared_errors = 100\n",
    "epochs = 100\n",
    "mean_squared_errors = []\n",
    "for i in range(0, total_mean_squared_errors):\n",
    "    X_train, X_test, y_train, y_test = train_test_split(predictors, target, test_size=0.3, random_state=i)\n",
    "    model.fit(X_train, y_train, epochs=epochs, verbose=0)\n",
    "    MSE = model.evaluate(X_test, y_test, verbose=0)\n",
    "    print(\"MSE \"+str(i+1)+\": \"+str(MSE))\n",
    "    y_pred = model.predict(X_test)\n",
    "    mean_square_error = mean_squared_error(y_test, y_pred)\n",
    "    mean_squared_errors.append(mean_square_error)\n",
    "\n",
    "mean_squared_errors = np.array(mean_squared_errors)\n",
    "mean = np.mean(mean_squared_errors)\n",
    "standard_deviation = np.std(mean_squared_errors)\n",
    "\n",
    "print('\\n')\n",
    "print(\"Mean: \"+str(mean))\n",
    "print(\"Standard Deviation: \"+str(standard_deviation))"
   ]
  },
  {
   "cell_type": "markdown",
   "metadata": {},
   "source": [
    "MSE in part B Mean: 42.8598274048752\n",
    "\n",
    "MSE in part C Mean: 31.90416229577972"
   ]
  },
  {
   "cell_type": "markdown",
   "metadata": {},
   "source": [
    "In conclustion, MSE is getting much lower(almost 15%) when we set epochs to 100 instead of 50.\n",
    "\n",
    "Judging by lots of data scientists in the internet. If your model is still improving (according to the validation loss), then more epochs are better. You can confirm this by using a hold-out test set to compare model checkpoints e.g. at epoch 100, 200, 400, 500.\n",
    "\n",
    "Since we just doubled our epochs in a range of 100 to 500 we can assume this will lead us to get a better outcome.\n",
    "\n",
    "But, this does not mean 1000 or 5000 epochs give us a better outcome. This may can lead to over fit action to your CNN so we have to be careful. However, this is not our case.\n",
    "\n",
    "In general, this gives us a conclusion that more epochs in simple model that is still improving and still not in over fit zone lead us to get more smaller MSE and that means our predictions getting more accuracy."
   ]
  },
  {
   "cell_type": "code",
   "execution_count": null,
   "metadata": {},
   "outputs": [],
   "source": []
  }
 ],
 "metadata": {
  "kernelspec": {
   "display_name": "tf-gpu",
   "language": "python",
   "name": "tf2.0-gpu"
  },
  "language_info": {
   "codemirror_mode": {
    "name": "ipython",
    "version": 3
   },
   "file_extension": ".py",
   "mimetype": "text/x-python",
   "name": "python",
   "nbconvert_exporter": "python",
   "pygments_lexer": "ipython3",
   "version": "3.6.12"
  },
  "varInspector": {
   "cols": {
    "lenName": 16,
    "lenType": 16,
    "lenVar": 40
   },
   "kernels_config": {
    "python": {
     "delete_cmd_postfix": "",
     "delete_cmd_prefix": "del ",
     "library": "var_list.py",
     "varRefreshCmd": "print(var_dic_list())"
    },
    "r": {
     "delete_cmd_postfix": ") ",
     "delete_cmd_prefix": "rm(",
     "library": "var_list.r",
     "varRefreshCmd": "cat(var_dic_list()) "
    }
   },
   "types_to_exclude": [
    "module",
    "function",
    "builtin_function_or_method",
    "instance",
    "_Feature"
   ],
   "window_display": false
  }
 },
 "nbformat": 4,
 "nbformat_minor": 4
}
